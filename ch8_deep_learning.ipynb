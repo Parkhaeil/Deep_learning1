{
 "cells": [
  {
   "cell_type": "markdown",
   "id": "1da67957",
   "metadata": {},
   "source": [
    "# 딥러닝\n",
    "\n",
    "딥러닝은 층을 깊게 한 심층 신경망이다.\n",
    "\n",
    "## 8.1 더 깊게\n",
    "심층 신경망을 만들어 MNIST 데이터셋의 손글씨 숫자 인식에 도전해보자.\n",
    "\n",
    "### 8.1.1 더 깊은 신경망으로\n",
    "\n",
    "### 8.1.2 정확도를 더 높이려면\n",
    "<b>데이터 확장</b> : 입력 이미지를 회전하거나 이동하는 등 이미지 개수 늘리는 방법이다.\n",
    "예시. crop, flip, 밝기, 확대, 축소\n",
    "\n",
    "### 8.1.3 층을 깊게 하는 이유\n",
    "신경망을 더 깊게 하는 이유가 뭐임?\n",
    "\n",
    "- 신경망의 매개변수 수가 줄어든다는 것"
   ]
  },
  {
   "cell_type": "code",
   "execution_count": null,
   "id": "414062c9",
   "metadata": {},
   "outputs": [],
   "source": []
  }
 ],
 "metadata": {
  "language_info": {
   "name": "python"
  }
 },
 "nbformat": 4,
 "nbformat_minor": 5
}
