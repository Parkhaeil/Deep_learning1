{
 "cells": [
  {
   "cell_type": "code",
   "execution_count": 3,
   "id": "1eeab062",
   "metadata": {},
   "outputs": [],
   "source": [
    "import sys, os\n",
    "sys.path.append(os.pardir) # 부모 디렉터리 파일을 가져올 수 있도록 설정\n",
    "from dataset.mnist import load_mnist\n",
    "\n",
    "(x_train, t_train), (x_test, t_test) = \\\n",
    "    load_mnist(flatten=True, normalize=False, )\n",
    "\n",
    "# normalize         입력 이미지의 픽셀 값을 0.0~1.0 사이의 값으로 정규화할지를 결정, false면 원래 값 그대로 0~255\n",
    "# flatten           입력 이미지를 1차월 배열(평탄하게)로 만들 건지를 결정\n",
    "# one_hot_label     레이블을 원핫인코딩(정답만 1, 나머지는 0인 배열)방식으로 저장할 건지를 결정\n"
   ]
  },
  {
   "cell_type": "markdown",
   "id": "f7b19eca",
   "metadata": {},
   "source": [
    "### python의 피클(pickle) 기능\n",
    "특정 프로그램 실행 중에 특정 객체를 파일로 저장하는 기능.<br>\n",
    "저장해둔 pickle 파일을 로드하면 실행 당시의 객체를 즉시 복원할 수 있다.\n",
    "MNIST 데이터 셋을 읽는 load_mnist() 함수에서도 2번째 읽기 시도 이후 pickle을 이용한다."
   ]
  },
  {
   "cell_type": "code",
   "execution_count": 4,
   "id": "8e2fc764",
   "metadata": {},
   "outputs": [
    {
     "name": "stdout",
     "output_type": "stream",
     "text": [
      "(60000, 784)\n",
      "(60000,)\n",
      "(10000, 784)\n",
      "(10000,)\n"
     ]
    }
   ],
   "source": [
    "print(x_train.shape) # 28×28 → 784개 픽셀로 flatten\n",
    "print(t_train.shape)\n",
    "print(x_test.shape)  # 28×28 → 784개 픽셀로 flatten\n",
    "print(t_test.shape) "
   ]
  },
  {
   "cell_type": "markdown",
   "id": "f262d22e",
   "metadata": {},
   "source": [
    "\n",
    "이미지 데이터를 flatten(1차원으로 변형) 하는 이유는, 신경망 입력층이 벡터 형태로 데이터를 받기 때문"
   ]
  },
  {
   "cell_type": "code",
   "execution_count": 8,
   "id": "2a997eb0",
   "metadata": {},
   "outputs": [
    {
     "name": "stdout",
     "output_type": "stream",
     "text": [
      "['c:\\\\Users\\\\User\\\\AppData\\\\Local\\\\Programs\\\\Python\\\\Python311\\\\python311.zip', 'c:\\\\Users\\\\User\\\\AppData\\\\Local\\\\Programs\\\\Python\\\\Python311\\\\DLLs', 'c:\\\\Users\\\\User\\\\AppData\\\\Local\\\\Programs\\\\Python\\\\Python311\\\\Lib', 'c:\\\\Users\\\\User\\\\AppData\\\\Local\\\\Programs\\\\Python\\\\Python311', '', 'C:\\\\Users\\\\User\\\\AppData\\\\Roaming\\\\Python\\\\Python311\\\\site-packages', 'C:\\\\Users\\\\User\\\\AppData\\\\Roaming\\\\Python\\\\Python311\\\\site-packages\\\\win32', 'C:\\\\Users\\\\User\\\\AppData\\\\Roaming\\\\Python\\\\Python311\\\\site-packages\\\\win32\\\\lib', 'C:\\\\Users\\\\User\\\\AppData\\\\Roaming\\\\Python\\\\Python311\\\\site-packages\\\\Pythonwin', 'c:\\\\Users\\\\User\\\\AppData\\\\Local\\\\Programs\\\\Python\\\\Python311\\\\Lib\\\\site-packages', '..']\n"
     ]
    },
    {
     "ename": "ModuleNotFoundError",
     "evalue": "No module named 'common.functions'",
     "output_type": "error",
     "traceback": [
      "\u001b[1;31m---------------------------------------------------------------------------\u001b[0m",
      "\u001b[1;31mModuleNotFoundError\u001b[0m                       Traceback (most recent call last)",
      "Cell \u001b[1;32mIn[8], line 3\u001b[0m\n\u001b[0;32m      1\u001b[0m \u001b[38;5;28;01mimport\u001b[39;00m \u001b[38;5;21;01mpickle\u001b[39;00m\n\u001b[0;32m      2\u001b[0m \u001b[38;5;28mprint\u001b[39m(sys\u001b[38;5;241m.\u001b[39mpath)\n\u001b[1;32m----> 3\u001b[0m \u001b[38;5;28;01mfrom\u001b[39;00m \u001b[38;5;21;01mcommon\u001b[39;00m\u001b[38;5;21;01m.\u001b[39;00m\u001b[38;5;21;01mfunctions\u001b[39;00m \u001b[38;5;28;01mimport\u001b[39;00m sigmoid, softmax\n\u001b[0;32m      6\u001b[0m \u001b[38;5;28;01mdef\u001b[39;00m \u001b[38;5;21mget_data\u001b[39m():\n\u001b[0;32m      7\u001b[0m     (x_train, t_train), (x_test, t_test) \u001b[38;5;241m=\u001b[39m \\\n\u001b[0;32m      8\u001b[0m         load_mnist(normalize\u001b[38;5;241m=\u001b[39m\u001b[38;5;28;01mTrue\u001b[39;00m, flatten\u001b[38;5;241m=\u001b[39m\u001b[38;5;28;01mTrue\u001b[39;00m, one_hot_label\u001b[38;5;241m=\u001b[39m\u001b[38;5;28;01mFalse\u001b[39;00m)\n",
      "\u001b[1;31mModuleNotFoundError\u001b[0m: No module named 'common.functions'"
     ]
    }
   ],
   "source": [
    "import pickle\n",
    "print(sys.path)\n",
    "from common.functions import sigmoid, softmax\n",
    "\n",
    "\n",
    "def get_data():\n",
    "    (x_train, t_train), (x_test, t_test) = \\\n",
    "        load_mnist(normalize=True, flatten=True, one_hot_label=False)\n",
    "    return x_test, t_test\n",
    "\n",
    "def init_network():\n",
    "    with open(\"sample_weight.pkl\",'rb') as f: # sample weight.pkl에 저장된 학습된 가중치 매개변수를 읽기\n",
    "        network = pickle.load(f)\n",
    "\n",
    "def predict(network, x):\n",
    "    W1, W2, W3 = network['W1'], network['W2'], network['W3']\n",
    "    b1, b2, b3 = network['b1'], network['b2'], network['b3']\n",
    "\n",
    "    a1 = np.dot(x,W1) + b1\n",
    "    z1 = sigmoid(a1)\n",
    "    a2 = np.dot(z1,W2) +b2\n",
    "    z2 = sigmoid(a2)\n",
    "    a3 = np.dot(z2,W3) +b3\n",
    "    y  = softmax(a3)\n",
    "\n",
    "    return y\n",
    "\n",
    "### 신경망에 의한 추론을 수행해보고 정확도가 얼마인지 알아보겠습니다.\n",
    "x, t = get_data()\n",
    "network = init_network()\n",
    "\n",
    "accuracy_cnt = 0\n",
    "for i in range(len(x)):\n",
    "    y = predict(network, x[i])\n",
    "    p = np.argmax(y) # 확률이 가장 높은 원소의 인덱스를 얻는다\n",
    "    if p == t[i]:\n",
    "        accuracy_cnt += 1\n",
    "\n",
    "\n",
    "print(\"Accuracy: \"+ str(float(accuracy_cnt)/len(x)))\n",
    "    \n",
    "\n"
   ]
  }
 ],
 "metadata": {
  "kernelspec": {
   "display_name": "Python 3",
   "language": "python",
   "name": "python3"
  },
  "language_info": {
   "codemirror_mode": {
    "name": "ipython",
    "version": 3
   },
   "file_extension": ".py",
   "mimetype": "text/x-python",
   "name": "python",
   "nbconvert_exporter": "python",
   "pygments_lexer": "ipython3",
   "version": "3.11.2"
  }
 },
 "nbformat": 4,
 "nbformat_minor": 5
}
